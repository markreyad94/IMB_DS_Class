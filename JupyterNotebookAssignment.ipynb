{
 "cells": [
  {
   "cell_type": "markdown",
   "id": "8c3d418e-13a0-4f94-a043-7a05cd6a57f9",
   "metadata": {},
   "source": [
    "<h1>My Jupyter Notebook on IBM Watson Studio</h1>"
   ]
  },
  {
   "cell_type": "markdown",
   "id": "9b56e701-31aa-4e47-8771-d1198d71e6b2",
   "metadata": {},
   "source": [
    "<strong>Mark Reyad</strong><br>\n",
    "Data Scientist"
   ]
  },
  {
   "cell_type": "markdown",
   "id": "558ccf59-3ec7-4974-aed7-4baa953781aa",
   "metadata": {},
   "source": [
    "<em>I am interested in data science to advance my skills and become more efficient analyzing and drawing conclusions and predictions from my datasets.</em>"
   ]
  },
  {
   "cell_type": "markdown",
   "id": "47e8ac9b-f069-40ba-bcc7-b9897569069c",
   "metadata": {},
   "source": [
    "<h3>My my code in the next cell will print Hello World!</h3>"
   ]
  },
  {
   "cell_type": "code",
   "execution_count": 1,
   "id": "6a35846e-450f-42a7-aa7c-c6a83a64ef03",
   "metadata": {},
   "outputs": [
    {
     "name": "stdout",
     "output_type": "stream",
     "text": [
      "Hello World!\n"
     ]
    }
   ],
   "source": [
    "# display Hello World\n",
    "print(\"Hello World!\")"
   ]
  },
  {
   "cell_type": "markdown",
   "id": "54878a3d-5879-472c-a1e3-373d28e43d00",
   "metadata": {},
   "source": [
    "1. Hyperlink: <a href=\"www.google.com\">Google Homepage</a> \n",
    "2. Strikethrough: <s>Void</s>\n",
    "3. Table: \n",
    "| Column1 | Column2 |\n",
    "| ------ | ------ |\n",
    "| data1 | data2 |"
   ]
  },
  {
   "cell_type": "code",
   "execution_count": null,
   "id": "f4e6c2fc-b1dd-44f8-9dfe-d4d0c4829cee",
   "metadata": {},
   "outputs": [],
   "source": []
  }
 ],
 "metadata": {
  "kernelspec": {
   "display_name": "Python",
   "language": "python",
   "name": "conda-env-python-py"
  },
  "language_info": {
   "codemirror_mode": {
    "name": "ipython",
    "version": 3
   },
   "file_extension": ".py",
   "mimetype": "text/x-python",
   "name": "python",
   "nbconvert_exporter": "python",
   "pygments_lexer": "ipython3",
   "version": "3.7.12"
  }
 },
 "nbformat": 4,
 "nbformat_minor": 5
}
